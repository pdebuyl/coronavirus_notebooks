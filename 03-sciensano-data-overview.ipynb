{
 "cells": [
  {
   "cell_type": "markdown",
   "metadata": {},
   "source": [
    "# Reading the coronavirus from Sciensano with Python\n",
    "\n",
    "**Author:** Pierre de Buyl  \n",
    "**Date:** 14 september 2020  \n",
    "**Licence:** [CC-BY](https://creativecommons.org/licenses/by/4.0/)\n",
    "\n",
    "In this notebook, I present how to load the files published by Sciensano at\n",
    "https://epistat.wiv-isp.be/covid/\n",
    "\n",
    "The files are available in csv and present a non-unique index as the lines\n",
    "correspond to a set of date/province (for hospitalization data) and\n",
    "date/province/agegroup/sex for the cases.\n",
    "\n",
    "I use [pandas](https://pandas.pydata.org/) for its read_csv, groupby and rolling mean features.\n",
    "Also [matplotlib](https://matplotlib.org/) and [NumPy](https://numpy.org/).\n",
    "\n",
    "See https://github.com/pdebuyl/coronavirus_notebooks for the notebook file. You can\n",
    "execute the notebook online at https://mybinder.org/v2/gh/pdebuyl/coronavirus_notebooks/master"
   ]
  },
  {
   "cell_type": "code",
   "execution_count": null,
   "metadata": {},
   "outputs": [],
   "source": [
    "%matplotlib notebook\n",
    "import numpy as np\n",
    "import matplotlib.pyplot as plt\n",
    "import matplotlib\n",
    "import pandas as pd\n",
    "import os\n",
    "import os.path"
   ]
  },
  {
   "cell_type": "code",
   "execution_count": null,
   "metadata": {},
   "outputs": [],
   "source": [
    "# Give room for the tilted date labels\n",
    "plt.rcParams['figure.subplot.bottom'] = 0.2\n",
    "plt.rcParams['figure.subplot.hspace'] = 0.3"
   ]
  },
  {
   "cell_type": "code",
   "execution_count": null,
   "metadata": {},
   "outputs": [],
   "source": []
  },
  {
   "cell_type": "code",
   "execution_count": null,
   "metadata": {},
   "outputs": [],
   "source": [
    "# Change the line below to the location of the CSV files\n",
    "data_directory = 'data'\n",
    "\n",
    "# Read hospitalisation and cases data\n",
    "# File encoding must be set, the default from pandas is utf-8\n",
    "\n",
    "df_HOSP =  pd.read_csv(os.path.join(data_directory, 'COVID19BE_HOSP.csv'),\n",
    "                       encoding='utf-8', index_col=['DATE', 'PROVINCE'])\n",
    "\n",
    "df_CASES = pd.read_csv(os.path.join(data_directory, 'COVID19BE_CASES_AGESEX.csv'),\n",
    "                       encoding='utf-8', index_col=['DATE', 'PROVINCE', 'AGEGROUP', 'SEX'])\n",
    "\n",
    "df_TESTS = pd.read_csv(os.path.join(data_directory, 'COVID19BE_tests.csv'),\n",
    "                       encoding='utf-8', index_col=['DATE', 'PROVINCE'])\n",
    "\n",
    "df_MORT = pd.read_csv(os.path.join(data_directory, 'COVID19BE_MORT.csv'),\n",
    "                       encoding='utf-8', index_col=['DATE', 'REGION', 'AGEGROUP', 'SEX'])\n"
   ]
  },
  {
   "cell_type": "markdown",
   "metadata": {},
   "source": [
    "## Plotting the data\n",
    "\n",
    "I consider the hospitalization data for all provinces summed, as it is\n",
    "the main reporting done in the media and in the comparisons with epidemiologic\n",
    "models.\n",
    "\n",
    "Some data are daily values, such as the number of *new* hospitalizations. Others\n",
    "are cumulative, i.e. the sum to date for every data point, such as cumulative cases."
   ]
  },
  {
   "cell_type": "code",
   "execution_count": null,
   "metadata": {},
   "outputs": [],
   "source": [
    "HOSP_bydate = df_HOSP.groupby('DATE').sum()\n",
    "\n",
    "CASES_bydate = df_CASES.groupby('DATE').sum()\n",
    "\n",
    "TESTS_bydate = df_TESTS.groupby('DATE').sum() #[:-1]\n",
    "\n",
    "HOSP_time = np.asarray(HOSP_bydate.index, dtype=np.datetime64)\n",
    "CASES_time = np.asarray(CASES_bydate.index, dtype=np.datetime64)\n",
    "TESTS_time = np.asarray(TESTS_bydate.index, dtype=np.datetime64)\n"
   ]
  },
  {
   "cell_type": "code",
   "execution_count": null,
   "metadata": {},
   "outputs": [],
   "source": [
    "plt.figure()\n",
    "\n",
    "plt.plot(HOSP_time, HOSP_bydate['TOTAL_IN'], label='in hospital')\n",
    "\n",
    "plt.plot(HOSP_time, HOSP_bydate['TOTAL_IN_ICU'], label='in ICU')\n",
    "\n",
    "xt = plt.xticks()\n",
    "plt.xticks(xt[0][::1])\n",
    "plt.legend()\n",
    "plt.yscale('log')\n",
    "plt.grid()\n",
    "ax = plt.gca()\n",
    "plt.setp(ax.get_xticklabels(), rotation=30, ha=\"right\");\n",
    "\n",
    "plt.title(\"COVID19 Belgium - hospital occupancy\\nData source: Sciensano - Figure: P. de Buyl\")"
   ]
  },
  {
   "cell_type": "code",
   "execution_count": null,
   "metadata": {},
   "outputs": [],
   "source": [
    "plt.figure()\n",
    "\n",
    "plt.plot(HOSP_time, HOSP_bydate['TOTAL_IN']/HOSP_bydate['TOTAL_IN_ICU'])\n",
    "\n",
    "xt = plt.xticks()\n",
    "plt.xticks(xt[0][::1])\n",
    "plt.grid()\n",
    "ax = plt.gca()\n",
    "plt.setp(ax.get_xticklabels(), rotation=30, ha=\"right\");\n",
    "\n",
    "plt.title(\"COVID19 Belgium - ratio of total / ICU beds\")"
   ]
  },
  {
   "cell_type": "code",
   "execution_count": null,
   "metadata": {},
   "outputs": [],
   "source": [
    "plt.figure()\n",
    "\n",
    "plt.plot(HOSP_time, HOSP_bydate['TOTAL_IN'], label='in hospital')\n",
    "\n",
    "plt.plot(HOSP_time, HOSP_bydate['TOTAL_IN_ICU'], label='in ICU')\n",
    "\n",
    "plt.plot(CASES_time, CASES_bydate['CASES'], label='cases')\n",
    "plt.plot(CASES_time, np.cumsum(CASES_bydate['CASES']), label='cumul cases')\n",
    "\n",
    "plt.plot(TESTS_time, TESTS_bydate['TESTS_ALL'], label='tests')\n",
    "\n",
    "plt.axhline(2200)\n",
    "\n",
    "xt = plt.xticks()\n",
    "plt.xticks(xt[0][::1])\n",
    "plt.legend()\n",
    "plt.yscale('log')\n",
    "plt.grid()\n",
    "ax = plt.gca()\n",
    "plt.setp(ax.get_xticklabels(), rotation=30, ha=\"right\");\n",
    "\n",
    "plt.title('Daily indicators and cumulative cases')"
   ]
  },
  {
   "cell_type": "markdown",
   "metadata": {},
   "source": [
    "## Plotting the cases and hospitalization numbers per province"
   ]
  },
  {
   "cell_type": "code",
   "execution_count": null,
   "metadata": {},
   "outputs": [],
   "source": [
    "cases_prov = df_CASES.groupby(level=[0,1]).sum().groupby('PROVINCE')\n",
    "\n",
    "fig, axes = plt.subplots(4, 3, figsize=(9, 9), sharex=True, sharey=True)\n",
    "\n",
    "for i, k in enumerate(cases_prov.indices.keys()):\n",
    "    i = i if i < 2 else i+1\n",
    "    ix = i // 3\n",
    "    iy = i % 3\n",
    "    ax = axes[ix][iy]\n",
    "    plt.sca(ax)\n",
    "    g = cases_prov.get_group(k)\n",
    "    g = g.reset_index(level=1, drop=True)\n",
    "    g.rolling(7).mean().plot(ax=ax, legend=i==1, rot=45)\n",
    "    plt.yscale('log')\n",
    "    plt.title(k)\n",
    "    plt.grid()\n",
    "\n",
    "plt.suptitle('Cases per province, rolling mean')"
   ]
  },
  {
   "cell_type": "code",
   "execution_count": null,
   "metadata": {},
   "outputs": [],
   "source": [
    "hosp_prov = df_HOSP.groupby('PROVINCE') #.reset_index(level=1, drop=True)\n",
    "\n",
    "fig, axes = plt.subplots(4, 3, figsize=(9, 9), sharex=True, sharey=True)\n",
    "\n",
    "for i, k in enumerate(hosp_prov.indices.keys()):\n",
    "    i = i if i < 2 else i+1\n",
    "    ix = i // 3\n",
    "    iy = i % 3\n",
    "    ax = axes[ix][iy]\n",
    "    plt.sca(ax)\n",
    "    g = hosp_prov.get_group(k).reset_index(level=1, drop=True)\n",
    "    g['TOTAL_IN'].rolling(7).mean().plot(ax=ax, legend=i==1, rot=45)\n",
    "    g['TOTAL_IN_ICU'].rolling(7).mean().plot(ax=ax, legend=i==1, rot=45, ls='--')\n",
    "    plt.yscale('log')\n",
    "    plt.title(k)\n",
    "    plt.grid()\n",
    "\n",
    "plt.suptitle('Hospitalization per province, rolling mean')"
   ]
  },
  {
   "cell_type": "code",
   "execution_count": null,
   "metadata": {},
   "outputs": [],
   "source": [
    "tests_prov = df_TESTS.groupby('PROVINCE')\n",
    "\n",
    "fig, axes = plt.subplots(4, 3, figsize=(9, 9), sharex=True, sharey=True)\n",
    "\n",
    "for i, k in enumerate(tests_prov.indices.keys()):\n",
    "    i = i if i < 2 else i+1\n",
    "    ix = i // 3\n",
    "    iy = i % 3\n",
    "    ax = axes[ix][iy]\n",
    "    plt.sca(ax)\n",
    "    g = tests_prov.get_group(k).reset_index(level=1, drop=True)\n",
    "    g.rolling(7).mean().plot(ax=ax, legend=i==1, rot=45)\n",
    "    plt.yscale('log')\n",
    "    plt.title(k)\n",
    "    plt.grid()\n",
    "\n",
    "plt.suptitle('Tests per province, rolling mean')"
   ]
  },
  {
   "cell_type": "code",
   "execution_count": null,
   "metadata": {},
   "outputs": [],
   "source": [
    "tests_prov = df_TESTS.groupby('PROVINCE')\n",
    "cases_prov = df_CASES.groupby('PROVINCE')\n",
    "\n",
    "fig, axes = plt.subplots(4, 3, figsize=(9, 9), sharex=True, sharey=True)\n",
    "\n",
    "for i, k in enumerate(tests_prov.indices.keys()):\n",
    "    i = i if i < 2 else i+1\n",
    "    ix = i // 3\n",
    "    iy = i % 3\n",
    "    ax = axes[ix][iy]\n",
    "    plt.sca(ax)\n",
    "    tests_group = tests_prov.get_group(k).reset_index(level=1, drop=True).groupby('DATE').sum().rolling(7).mean()[1:-1]\n",
    "    cases_group = cases_prov.get_group(k).groupby('DATE').sum().rolling(7).mean()\n",
    "    positivity = cases_group['CASES']/tests_group['TESTS_ALL']\n",
    "    positivity.plot(ax=ax, legend=i==1, rot=45)\n",
    "    plt.yscale('log')\n",
    "    plt.title(k)\n",
    "    plt.grid()\n",
    "\n",
    "plt.suptitle('Positivity per province, rolling mean')"
   ]
  },
  {
   "cell_type": "code",
   "execution_count": null,
   "metadata": {},
   "outputs": [],
   "source": [
    "plt.figure()\n",
    "\n",
    "TESTS_rm = TESTS_bydate['TESTS_ALL'].rolling(7).mean()\n",
    "CASES_rm = CASES_bydate['CASES'].rolling(7).mean()\n",
    "\n",
    "plt.plot(TESTS_time, CASES_rm/TESTS_rm)\n",
    "\n",
    "plt.yscale('log')\n",
    "plt.grid()\n",
    "\n",
    "plt.title('Positive rate of tests')"
   ]
  },
  {
   "cell_type": "code",
   "execution_count": null,
   "metadata": {},
   "outputs": [],
   "source": [
    "plt.figure()\n",
    "\n",
    "TESTS_rm = TESTS_bydate['TESTS_ALL'].rolling(7).mean()\n",
    "\n",
    "plt.plot(TESTS_time, TESTS_rm)\n",
    "\n",
    "plt.yscale('log')\n",
    "plt.grid()\n",
    "\n",
    "plt.title('Number of tests, rolling mean')"
   ]
  },
  {
   "cell_type": "code",
   "execution_count": null,
   "metadata": {},
   "outputs": [],
   "source": [
    "deaths_all = df_MORT.groupby(level=[0,1,2]).sum().reset_index(level=(1,2), drop=True)\n",
    "\n",
    "deaths_all.rolling(7).mean().plot(rot=45)\n",
    "\n",
    "plt.yscale('log')\n",
    "\n",
    "plt.title(\"Daily deaths, rolling mean\")"
   ]
  },
  {
   "cell_type": "code",
   "execution_count": null,
   "metadata": {},
   "outputs": [],
   "source": [
    "deaths_agegroup = df_MORT.groupby(level=[0,2]).sum().groupby('AGEGROUP')\n",
    "\n",
    "for i, k in enumerate(deaths_agegroup.indices.keys()):\n",
    "    if i==0: continue # First range contains no recorded death\n",
    "    print(k)\n",
    "    g = deaths_agegroup.get_group(k)\n",
    "    g = g.reset_index(level=1, drop=True)\n",
    "    g.rolling(7).mean().plot(rot=45, label='rolling mean')\n",
    "    ax = plt.gca()\n",
    "    g.plot(ax=ax)\n",
    "    plt.yscale('log')\n",
    "    plt.title(f'Arge range {k}')\n",
    "    plt.grid()\n"
   ]
  },
  {
   "cell_type": "code",
   "execution_count": null,
   "metadata": {},
   "outputs": [],
   "source": []
  }
 ],
 "metadata": {
  "kernelspec": {
   "display_name": "Python 3",
   "language": "python",
   "name": "python3"
  },
  "language_info": {
   "codemirror_mode": {
    "name": "ipython",
    "version": 3
   },
   "file_extension": ".py",
   "mimetype": "text/x-python",
   "name": "python",
   "nbconvert_exporter": "python",
   "pygments_lexer": "ipython3",
   "version": "3.7.3"
  }
 },
 "nbformat": 4,
 "nbformat_minor": 2
}
